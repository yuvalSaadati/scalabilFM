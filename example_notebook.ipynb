{
 "cells": [
  {
   "cell_type": "markdown",
   "metadata": {},
   "source": [
    "\n",
    "# 1 - Imports and defining functions"
   ]
  },
  {
   "cell_type": "code",
   "execution_count": 1,
   "metadata": {},
   "outputs": [],
   "source": [
    "import meshplot as mp\n",
    "import numpy as np\n",
    "\n",
    "from pyFM.mesh import TriMesh\n",
    "\n",
    "\n",
    "def plot_mesh(myMesh, cmap=None):\n",
    "    mp.plot(myMesh.vertlist, myMesh.facelist, c=cmap)\n",
    "\n",
    "\n",
    "def double_plot(myMesh1, myMesh2, cmap1=None, cmap2=None):\n",
    "    d = mp.subplot(myMesh1.vertlist, myMesh1.facelist, c=cmap1, s=[2, 2, 0])\n",
    "    mp.subplot(myMesh2.vertlist, myMesh2.facelist, c=cmap2, s=[2, 2, 1], data=d)\n",
    "\n",
    "\n",
    "def visu(vertices):\n",
    "    min_coord, max_coord = np.min(vertices, axis=0, keepdims=True), np.max(vertices, axis=0, keepdims=True)\n",
    "    cmap = (vertices - min_coord) / (max_coord - min_coord)\n",
    "    return cmap\n"
   ]
  },
  {
   "cell_type": "markdown",
   "metadata": {},
   "source": [
    "# 2- Loading and processing a mesh"
   ]
  },
  {
   "cell_type": "markdown",
   "metadata": {},
   "source": [
    "### Basic Mesh methods"
   ]
  },
  {
   "cell_type": "markdown",
   "metadata": {},
   "source": [
    "A TriMesh class can be created from a path (to a .off or a .obj file) or simply an array of vertices and an optional array of faces.\n",
    "\n",
    "The mesh can be centered, area-normalized, rotated or translated when loading.\n",
    "\n",
    "\n",
    "Vertices and faces are stored in the 'vertlist' and 'facelist' attributes. One can also use 'mesh.vertices' and 'mesh.faces' to access them. While these notations can feel non-intuitive they result in clearer functions as it avoids expressions of the form ```mesh.vertices - vertices```.\n",
    "\n",
    "A TriMesh class possess multiple attributes like edges, per-face area, per-vertex area, per-face normals, per-vertex normals, ..."
   ]
  },
  {
   "cell_type": "markdown",
   "metadata": {},
   "source": [
    "\n"
   ]
  },
  {
   "cell_type": "code",
   "execution_count": 2,
   "metadata": {},
   "outputs": [],
   "source": [
    "mesh1 = TriMesh('data/lion-00.off', area_normalize=True, center=False)\n",
    "mesh2 = TriMesh('data/cat-00.off', area_normalize=True, center=False)\n",
    "# pcd2 = TriMesh(np.load('data/cat-00.npy'))\n"
   ]
  },
  {
   "cell_type": "code",
   "execution_count": null,
   "metadata": {},
   "outputs": [
    {
     "data": {
      "text/plain": [
       "(5000, 3)"
      ]
     },
     "execution_count": 4,
     "metadata": {},
     "output_type": "execute_result"
    }
   ],
   "source": [
    "mesh1.vertlist.shape"
   ]
  },
  {
   "cell_type": "code",
   "execution_count": null,
   "metadata": {},
   "outputs": [
    {
     "data": {
      "application/vnd.jupyter.widget-view+json": {
       "model_id": "0d4eef9771254389a4cf366d92632197",
       "version_major": 2,
       "version_minor": 0
      },
      "text/plain": [
       "Renderer(camera=PerspectiveCamera(children=(DirectionalLight(color='white', intensity=0.6, position=(-1.359730…"
      ]
     },
     "metadata": {},
     "output_type": "display_data"
    },
    {
     "data": {
      "application/vnd.jupyter.widget-view+json": {
       "model_id": "97a8ec2493ce44eeacb50c5ce04ddfe0",
       "version_major": 2,
       "version_minor": 0
      },
      "text/plain": [
       "Renderer(camera=PerspectiveCamera(children=(DirectionalLight(color='white', intensity=0.6, position=(-0.001617…"
      ]
     },
     "metadata": {},
     "output_type": "display_data"
    }
   ],
   "source": [
    "plot_mesh(mesh1)\n",
    "plot_mesh(mesh2)"
   ]
  },
  {
   "cell_type": "code",
   "execution_count": null,
   "metadata": {},
   "outputs": [],
   "source": [
    "# # Attributes are computed on the fly and cached\n",
    "# edges = mesh1.edges\n",
    "#\n",
    "# area = mesh1.area\n",
    "#\n",
    "# face_areas = mesh1.face_areas\n",
    "# vertex_areas = mesh1.vertex_areas\n",
    "# face_normals = mesh1.normals\n",
    "#\n",
    "# # AREA WEIGHTED VERTEX NORMALS\n",
    "# vertex_normals_a = mesh1.vertex_normals\n",
    "#\n",
    "# # UNIFORM WEIGHTED VERTEX NORMALS\n",
    "# mesh1.set_vertex_normal_weighting('uniform')\n",
    "# vertex_normals_u = mesh1.vertex_normals"
   ]
  },
  {
   "cell_type": "markdown",
   "metadata": {},
   "source": [
    "### Geodesics"
   ]
  },
  {
   "cell_type": "markdown",
   "metadata": {},
   "source": [
    "We propose three versions to compute geodesics :\n",
    "- Heat method - based on [potpourri3d](https://github.com/nmwsharp/potpourri3d) using robust laplacian (recommended)\n",
    "- Heat method - pure python implementation from pyFM (not robust but control on the whole code)\n",
    "- Dijkstra"
   ]
  },
  {
   "cell_type": "code",
   "execution_count": null,
   "metadata": {},
   "outputs": [],
   "source": [
    "# Geodesic distance from a given index\n",
    "# Set robust to False to obtain result from the Python implementation\n",
    "dists = mesh1.geod_from(1000, robust=True)"
   ]
  },
  {
   "cell_type": "code",
   "execution_count": null,
   "metadata": {},
   "outputs": [
    {
     "data": {
      "application/vnd.jupyter.widget-view+json": {
       "model_id": "be59d65cad69488492e6a3a08d9b4448",
       "version_major": 2,
       "version_minor": 0
      },
      "text/plain": [
       "  0%|          | 0/5000 [00:00<?, ?it/s]"
      ]
     },
     "metadata": {},
     "output_type": "display_data"
    }
   ],
   "source": [
    "S1_geod = mesh1.get_geodesic(verbose=True)"
   ]
  },
  {
   "cell_type": "code",
   "execution_count": null,
   "metadata": {},
   "outputs": [
    {
     "data": {
      "text/plain": [
       "(5000, 5000)"
      ]
     },
     "execution_count": 9,
     "metadata": {},
     "output_type": "execute_result"
    }
   ],
   "source": [
    "S1_geod.shape"
   ]
  },
  {
   "cell_type": "markdown",
   "metadata": {},
   "source": [
    "### Laplacian and functions"
   ]
  },
  {
   "cell_type": "markdown",
   "metadata": {},
   "source": [
    "The spectrum of the LBO can be computed easily.\n",
    "\n",
    "Eigenvalues and eigenvectors are stored in the ```mesh.eigenvalues``` and ```mesh.eigenvectors``` attributes.\n",
    "\n",
    "Gradient and divergence can be computed using the associated methods. Using the ```mesh.project``` and ```mesh.unproject``` functions allows to switch between seeing a function in the LBO basis or on the complete shape.\n",
    "\n",
    "The squared $L^2$ norm and $H^1_0$ norm can be computed via the ```mesh.l2_sqnorm``` and ```mesh.h1_sqnorm``` methods."
   ]
  },
  {
   "cell_type": "code",
   "execution_count": 3,
   "metadata": {},
   "outputs": [
    {
     "ename": "NameError",
     "evalue": "name 'mesh1' is not defined",
     "output_type": "error",
     "traceback": [
      "\u001b[1;31m---------------------------------------------------------------------------\u001b[0m",
      "\u001b[1;31mNameError\u001b[0m                                 Traceback (most recent call last)",
      "Cell \u001b[1;32mIn[3], line 2\u001b[0m\n\u001b[0;32m      1\u001b[0m \u001b[38;5;66;03m# By default does not use the intrinsic delaunay Laplacian\u001b[39;00m\n\u001b[1;32m----> 2\u001b[0m \u001b[43mmesh1\u001b[49m\u001b[38;5;241m.\u001b[39mprocess(k\u001b[38;5;241m=\u001b[39m\u001b[38;5;241m3\u001b[39m, intrinsic\u001b[38;5;241m=\u001b[39m\u001b[38;5;28;01mFalse\u001b[39;00m, verbose\u001b[38;5;241m=\u001b[39m\u001b[38;5;28;01mTrue\u001b[39;00m); \u001b[38;5;66;03m#should replace by spectralnet\u001b[39;00m\n",
      "\u001b[1;31mNameError\u001b[0m: name 'mesh1' is not defined"
     ]
    }
   ],
   "source": [
    "# By default does not use the intrinsic delaunay Laplacian\n",
    "mesh1.process(k=3, intrinsic=False, verbose=True); #should replace by spectralnet"
   ]
  },
  {
   "cell_type": "code",
   "execution_count": 11,
   "metadata": {},
   "outputs": [
    {
     "data": {
      "application/vnd.jupyter.widget-view+json": {
       "model_id": "ec7768e1affd41f589b0c3f868aa6406",
       "version_major": 2,
       "version_minor": 0
      },
      "text/plain": [
       "Renderer(camera=PerspectiveCamera(children=(DirectionalLight(color='white', intensity=0.6, position=(-1.359730…"
      ]
     },
     "metadata": {},
     "output_type": "display_data"
    }
   ],
   "source": [
    "# plot the third eigenfunction\n",
    "plot_mesh(mesh1, mesh1.eigenvectors[:,2])"
   ]
  },
  {
   "cell_type": "markdown",
   "metadata": {},
   "source": [
    "# 3 - Computing the functional map"
   ]
  },
  {
   "cell_type": "markdown",
   "metadata": {},
   "source": [
    "**Loading data**"
   ]
  },
  {
   "cell_type": "code",
   "execution_count": 4,
   "metadata": {},
   "outputs": [
    {
     "name": "stdout",
     "output_type": "stream",
     "text": [
      "Mesh 1 : 7207 vertices, 14410 faces\n",
      "Mesh 2 : 5000 vertices,  9996 faces\n"
     ]
    },
    {
     "data": {
      "application/vnd.jupyter.widget-view+json": {
       "model_id": "9b446ccb144746eca4ce8bd80fe0db67",
       "version_major": 2,
       "version_minor": 0
      },
      "text/plain": [
       "HBox(children=(Output(), Output()))"
      ]
     },
     "metadata": {},
     "output_type": "display_data"
    },
    {
     "data": {
      "application/vnd.jupyter.widget-view+json": {
       "model_id": "12c5a7bdcd9948c7839497208058ff37",
       "version_major": 2,
       "version_minor": 0
      },
      "text/plain": [
       "HBox(children=(Output(), Output()))"
      ]
     },
     "metadata": {},
     "output_type": "display_data"
    }
   ],
   "source": [
    "# mesh1 = TriMesh(np.load('data/lion-00_1e5.npy'))\n",
    "# mesh2 = TriMesh(np.load('data/cat-00_1e5.npy'))\n",
    "mesh1 = TriMesh('data/cat-00.off', area_normalize=True, center=False)\n",
    "mesh2 = TriMesh('data/lion-00.off')\n",
    "\n",
    "print(f'Mesh 1 : {mesh1.n_vertices:4d} vertices, {mesh1.n_faces:5d} faces\\n'\n",
    "      f'Mesh 2 : {mesh2.n_vertices:4d} vertices, {mesh2.n_faces:5d} faces')\n",
    "\n",
    "double_plot(mesh1,mesh2)"
   ]
  },
  {
   "cell_type": "markdown",
   "metadata": {},
   "source": [
    "**Computing descriptors**"
   ]
  },
  {
   "cell_type": "code",
   "execution_count": 5,
   "metadata": {},
   "outputs": [
    {
     "name": "stdout",
     "output_type": "stream",
     "text": [
      "\n",
      "Computing Laplacian spectrum\n",
      "Computing 200 eigenvectors\n",
      "\tDone in 4.03 s\n",
      "Computing 200 eigenvectors\n",
      "\tDone in 2.23 s\n",
      "\n",
      "Computing descriptors\n",
      "\tNormalizing descriptors\n",
      "\n",
      "\t150 out of 600 possible descriptors kept\n"
     ]
    }
   ],
   "source": [
    "from pyFM.functional import FunctionalMapping\n",
    "\n",
    "process_params = {\n",
    "    'n_ev': (35,35),  # Number of eigenvalues on source and Target\n",
    "    'landmarks': np.loadtxt('data/landmarks.txt',dtype=int)[:5],  # loading 5 landmarks\n",
    "    'subsample_step': 4,  # In order not to use too many descriptors\n",
    "    'descr_type': 'WKS',  # WKS or HKS\n",
    "}\n",
    "\n",
    "model = FunctionalMapping(mesh1,mesh2)\n",
    "model.preprocess(**process_params,verbose=True);"
   ]
  },
  {
   "cell_type": "code",
   "execution_count": 14,
   "metadata": {},
   "outputs": [],
   "source": [
    "# model.mesh1.load_eigen_vectors('eigen_vectors_lion_1e5.npy')\n",
    "# model.mesh2.load_eigen_vectors('eigen_vectors_cat_1e5.npy')\n",
    "# model.mesh1.load_eigen_vectors('data/emb_cat_off_35.npy')\n",
    "# model.mesh2.load_eigen_vectors('data/emb_lion_off_35.npy')\n",
    "# np.load('data/emb_cat_off_35.npy').shape"
   ]
  },
  {
   "cell_type": "markdown",
   "metadata": {},
   "source": [
    "**Fitting the model**"
   ]
  },
  {
   "cell_type": "markdown",
   "metadata": {},
   "source": [
    "$\\newcommand{\\RR}{\\mathbb{R}}$\n",
    "$\\newcommand{\\Ss}{\\mathcal{S}}$\n",
    "$\\newcommand{\\uargmin}[1]{\\underset{#1}{\\text{argmin}}\\;}$\n",
    "$\\newcommand{\\uargmax}[1]{\\underset{#1}{\\text{argmax}}\\;}$\n",
    "$\\def\\*#1{\\mathbf{#1}}$\n",
    "\n",
    "In pyFM, we always consider functional maps $\\*C:\\Ss_1\\to\\Ss_2$ and pointwise maps $T:\\Ss_2\\to\\Ss_1$ going in opposite directions, with $\\*C$ always going from shape 1 to shape 2 !\n",
    "\n",
    "Optimization problem is\n",
    "\\begin{equation}\n",
    "\\uargmin{\\*C\\in\\RR^{k_2\\times k_1}} w_{descr}\\|\\*C\\*A - \\*B\\|^2 + w_{lap}\\|\\*C\\Delta_1 - \\Delta_2\\*C\\|^2 + w_{\\text{d- comm}}\\sum_i \\|\\*C\\Gamma_1^i - \\Gamma_2^i\\*C\\|^2 + w_{\\text{orient}}\\sum_i \\|\\*C\\Lambda_1^i - \\Lambda_2^i\\*C\\|^2\n",
    "\\end{equation}\n",
    "\n",
    "with $\\Gamma_1^i$ and $\\Gamma_2^i$ [multipliative operators](http://www.lix.polytechnique.fr/~maks/papers/fundescEG17.pdf) associated to the $i$-th descriptors, $\\Lambda_1^i$ and $\\Lambda_2^i$ [orientation preserving operators](https://arxiv.org/abs/1806.04455) associated to the $i$-th descriptors"
   ]
  },
  {
   "cell_type": "code",
   "execution_count": 15,
   "metadata": {},
   "outputs": [
    {
     "name": "stdout",
     "output_type": "stream",
     "text": [
      "Computing commutativity operators\n",
      "\tScaling LBO commutativity weight by 8.6e-09\n",
      "\n",
      "Optimization :\n",
      "\t35 Ev on source - 35 Ev on Target\n",
      "\tUsing 150 Descriptors\n",
      "\tHyperparameters :\n",
      "\t\tDescriptors preservation :1.0e-01\n",
      "\t\tDescriptors commutativity :1.0e-01\n",
      "\t\tLaplacian commutativity :1.0e-02\n",
      "\t\tOrientation preservation :0.0e+00\n",
      "\n",
      "\tTask : CONVERGENCE: REL_REDUCTION_OF_F_<=_FACTR*EPSMCH, funcall : 45, nit : 41, warnflag : 0\n",
      "\tDone in 0.49 seconds\n"
     ]
    }
   ],
   "source": [
    "fit_params = {\n",
    "    'w_descr': 1e-1,\n",
    "    'w_lap': 1e-2,\n",
    "    'w_dcomm': 1e-1,\n",
    "    'w_orient': 0\n",
    "}\n",
    "\n",
    "model.fit(**fit_params, verbose=True)"
   ]
  },
  {
   "cell_type": "markdown",
   "metadata": {},
   "source": [
    "**Visualizing the associated point to point map**"
   ]
  },
  {
   "cell_type": "code",
   "execution_count": 16,
   "metadata": {
    "scrolled": false
   },
   "outputs": [
    {
     "data": {
      "application/vnd.jupyter.widget-view+json": {
       "model_id": "64f45e4fdd2f46faaf06ab2c4139bbd3",
       "version_major": 2,
       "version_minor": 0
      },
      "text/plain": [
       "HBox(children=(Output(), Output()))"
      ]
     },
     "metadata": {},
     "output_type": "display_data"
    },
    {
     "data": {
      "application/vnd.jupyter.widget-view+json": {
       "model_id": "374635c173944f9eae1b53d6c7909695",
       "version_major": 2,
       "version_minor": 0
      },
      "text/plain": [
       "HBox(children=(Output(), Output()))"
      ]
     },
     "metadata": {},
     "output_type": "display_data"
    }
   ],
   "source": [
    "p2p_21 = model.get_p2p(n_jobs=1)\n",
    "cmap1 = visu(mesh1.vertlist); cmap2 = cmap1[p2p_21]\n",
    "double_plot(mesh1,mesh2,cmap1,cmap2)"
   ]
  },
  {
   "cell_type": "markdown",
   "metadata": {},
   "source": [
    "# 4 - Refining the Functional Map\n",
    "```model.FM``` returns the current state of functional map. One can change which one is returned by using ```model.change_FM_type(FM_type)```, as one can see below. \n",
    "\n",
    "**ICP**"
   ]
  },
  {
   "cell_type": "code",
   "execution_count": 17,
   "metadata": {},
   "outputs": [
    {
     "data": {
      "application/vnd.jupyter.widget-view+json": {
       "model_id": "229ce9ddc4ac433b89d1aaf790a36772",
       "version_major": 2,
       "version_minor": 0
      },
      "text/plain": [
       "  0%|          | 0/10 [00:00<?, ?it/s]"
      ]
     },
     "metadata": {},
     "output_type": "display_data"
    },
    {
     "data": {
      "application/vnd.jupyter.widget-view+json": {
       "model_id": "d05f2a6cf9184231a5002bb849cf7ece",
       "version_major": 2,
       "version_minor": 0
      },
      "text/plain": [
       "HBox(children=(Output(), Output()))"
      ]
     },
     "metadata": {},
     "output_type": "display_data"
    },
    {
     "data": {
      "application/vnd.jupyter.widget-view+json": {
       "model_id": "11f28bb474e742069b9b042c21fd0717",
       "version_major": 2,
       "version_minor": 0
      },
      "text/plain": [
       "HBox(children=(Output(), Output()))"
      ]
     },
     "metadata": {},
     "output_type": "display_data"
    }
   ],
   "source": [
    "model.icp_refine(verbose=True)\n",
    "p2p_21_icp = model.get_p2p()\n",
    "cmap1 = visu(mesh1.vertlist); cmap2 = cmap1[p2p_21_icp]\n",
    "double_plot(mesh1,mesh2,cmap1,cmap2)"
   ]
  },
  {
   "cell_type": "markdown",
   "metadata": {},
   "source": [
    "**Zoomout**"
   ]
  },
  {
   "cell_type": "code",
   "execution_count": 18,
   "metadata": {
    "scrolled": false
   },
   "outputs": [
    {
     "data": {
      "application/vnd.jupyter.widget-view+json": {
       "model_id": "b95cdd5f1af149578edb87df9ccf3ef7",
       "version_major": 2,
       "version_minor": 0
      },
      "text/plain": [
       "  0%|          | 0/15 [00:00<?, ?it/s]"
      ]
     },
     "metadata": {},
     "output_type": "display_data"
    },
    {
     "name": "stdout",
     "output_type": "stream",
     "text": [
      "(50, 50)\n"
     ]
    },
    {
     "data": {
      "application/vnd.jupyter.widget-view+json": {
       "model_id": "146f8e7c109a4c6a819d74667d2d4869",
       "version_major": 2,
       "version_minor": 0
      },
      "text/plain": [
       "HBox(children=(Output(), Output()))"
      ]
     },
     "metadata": {},
     "output_type": "display_data"
    },
    {
     "data": {
      "application/vnd.jupyter.widget-view+json": {
       "model_id": "77ee9f1c1553489a9e08ac1436ab2850",
       "version_major": 2,
       "version_minor": 0
      },
      "text/plain": [
       "HBox(children=(Output(), Output()))"
      ]
     },
     "metadata": {},
     "output_type": "display_data"
    }
   ],
   "source": [
    "model.change_FM_type('classic') # We refine the first computed map, not the icp-refined one\n",
    "model.zoomout_refine(nit=15, step = 1, verbose=True)\n",
    "print(model.FM.shape)\n",
    "p2p_21_zo = model.get_p2p()\n",
    "cmap1 = visu(mesh1.vertlist); cmap2 = cmap1[p2p_21_zo]\n",
    "double_plot(mesh1,mesh2,cmap1,cmap2)"
   ]
  },
  {
   "cell_type": "markdown",
   "metadata": {},
   "source": [
    "# Evaluating Results"
   ]
  },
  {
   "cell_type": "code",
   "execution_count": 19,
   "metadata": {},
   "outputs": [],
   "source": [
    "import pyFM.eval"
   ]
  },
  {
   "cell_type": "code",
   "execution_count": 20,
   "metadata": {},
   "outputs": [
    {
     "data": {
      "application/vnd.jupyter.widget-view+json": {
       "model_id": "bde098fc49714e45bd0881b2b3897de6",
       "version_major": 2,
       "version_minor": 0
      },
      "text/plain": [
       "  0%|          | 0/7207 [00:00<?, ?it/s]"
      ]
     },
     "metadata": {},
     "output_type": "display_data"
    }
   ],
   "source": [
    "# Compute geodesic distance matrix on the cat mesh\n",
    "A_geod = mesh1.get_geodesic(verbose=True)"
   ]
  },
  {
   "cell_type": "code",
   "execution_count": null,
   "metadata": {},
   "outputs": [
    {
     "ename": "",
     "evalue": "",
     "output_type": "error",
     "traceback": [
      "\u001b[1;31mRunning cells with 'c:\\Users\\Yuval\\AppData\\Local\\Programs\\Python\\Python312\\python.exe' requires the ipykernel package.\n",
      "\u001b[1;31mRun the following command to install 'ipykernel' into the Python environment. \n",
      "\u001b[1;31mCommand: 'c:/Users/Yuval/AppData/Local/Programs/Python/Python312/python.exe -m pip install ipykernel -U --user --force-reinstall'"
     ]
    }
   ],
   "source": [
    "# Load an approximate ground truth map\n",
    "gt_p2p = np.loadtxt('data/lion2cat',dtype=int)\n",
    "\n",
    "acc_base = pyFM.eval.accuracy(p2p_21, gt_p2p, A_geod, sqrt_area=mesh1.sqrtarea)\n",
    "\n",
    "acc_icp = pyFM.eval.accuracy(p2p_21_icp, gt_p2p, A_geod, sqrt_area=np.sqrt(mesh1.area))\n",
    "\n",
    "acc_zo = pyFM.eval.accuracy(p2p_21_zo, gt_p2p, A_geod, sqrt_area=np.sqrt(mesh1.area))\n",
    "\n",
    "print(f'Accuracy results\\n'\n",
    "      f'\\tBasic FM : {1e3*acc_base:.2f}\\n'\n",
    "      f'\\tICP refined : {1e3*acc_icp:.2f}\\n'\n",
    "      f'\\tZoomOut refined : {1e3*acc_zo:.2f}\\n')"
   ]
  },
  {
   "cell_type": "code",
   "execution_count": 2,
   "metadata": {},
   "outputs": [
    {
     "name": "stdout",
     "output_type": "stream",
     "text": [
      "\n",
      "Computing Laplacian spectrum\n",
      "Computing 20 eigenvectors\n",
      "Training SpectralNet:\n"
     ]
    },
    {
     "name": "stderr",
     "output_type": "stream",
     "text": [
      "Train Loss: 0.0000527, Valid Loss: 0.0003398, LR: 0.010000:  28%|██▊       | 11/40 [00:08<00:23,  1.26it/s]"
     ]
    }
   ],
   "source": [
    "from pyFM.functional import FunctionalMapping\n",
    "import meshplot as mp\n",
    "import numpy as np\n",
    "\n",
    "from pyFM.mesh import TriMesh\n",
    "\n",
    "\n",
    "def plot_mesh(myMesh, cmap=None):\n",
    "    mp.plot(myMesh.vertlist, myMesh.facelist, c=cmap)\n",
    "\n",
    "\n",
    "def double_plot(myMesh1, myMesh2, cmap1=None, cmap2=None):\n",
    "    d = mp.subplot(myMesh1.vertlist, myMesh1.facelist, c=cmap1, s=[2, 2, 0])\n",
    "    mp.subplot(myMesh2.vertlist, myMesh2.facelist, c=cmap2, s=[2, 2, 1], data=d)\n",
    "\n",
    "\n",
    "def visu(vertices):\n",
    "    min_coord, max_coord = np.min(vertices, axis=0, keepdims=True), np.max(vertices, axis=0, keepdims=True)\n",
    "    cmap = (vertices - min_coord) / (max_coord - min_coord)\n",
    "    return cmap\n",
    "\n",
    "mesh1 = TriMesh('data/cat-00.off', area_normalize=True, center=False)\n",
    "mesh2 = TriMesh('data/lion-00.off')\n",
    "process_params = {\n",
    "    'n_ev': (20,20),  # Number of eigenvalues on source and Target\n",
    "    'landmarks': np.loadtxt('data/landmarks.txt',dtype=int)[:5],  # loading 5 landmarks\n",
    "    'subsample_step': 4,  # In order not to use too many descriptors\n",
    "    'descr_type': 'WKS',  # WKS or HKS\n",
    "    'k_process': 20\n",
    "}\n",
    "model = FunctionalMapping(mesh1,mesh2)\n",
    "model.preprocess(**process_params,verbose=True)\n",
    "fit_params = {\n",
    "    'w_descr': 1e-1,\n",
    "    'w_lap': 1e-2,\n",
    "    'w_dcomm': 1e-1,\n",
    "    'w_orient': 0\n",
    "}\n",
    "\n",
    "model.fit(**fit_params, verbose=True)\n",
    "p2p_21 = model.get_p2p(n_jobs=1)\n",
    "cmap1 = visu(mesh1.vertlist); cmap2 = cmap1[p2p_21]\n",
    "double_plot(mesh1,mesh2,cmap1,cmap2)"
   ]
  }
 ],
 "metadata": {
  "kernelspec": {
   "display_name": "Python 3 (ipykernel)",
   "language": "python",
   "name": "python3"
  },
  "language_info": {
   "codemirror_mode": {
    "name": "ipython",
    "version": 3
   },
   "file_extension": ".py",
   "mimetype": "text/x-python",
   "name": "python",
   "nbconvert_exporter": "python",
   "pygments_lexer": "ipython3",
   "version": "3.11.5"
  }
 },
 "nbformat": 4,
 "nbformat_minor": 4
}
