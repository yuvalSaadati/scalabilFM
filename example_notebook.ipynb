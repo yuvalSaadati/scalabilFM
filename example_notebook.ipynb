{
 "cells": [
  {
   "cell_type": "markdown",
   "metadata": {},
   "source": [
    "\n",
    "# 1 - Imports and defining functions"
   ]
  },
  {
   "cell_type": "code",
   "execution_count": 1,
   "metadata": {},
   "outputs": [],
   "source": [
    "import meshplot as mp\n",
    "import numpy as np\n",
    "\n",
    "from pyFM.mesh import TriMesh\n",
    "\n",
    "\n",
    "def plot_mesh(myMesh, cmap=None):\n",
    "    mp.plot(myMesh.vertlist, myMesh.facelist, c=cmap)\n",
    "\n",
    "\n",
    "def double_plot(myMesh1, myMesh2, cmap1=None, cmap2=None):\n",
    "    d = mp.subplot(myMesh1.vertlist, myMesh1.facelist, c=cmap1, s=[2, 2, 0])\n",
    "    mp.subplot(myMesh2.vertlist, myMesh2.facelist, c=cmap2, s=[2, 2, 1], data=d)\n",
    "\n",
    "\n",
    "def visu(vertices):\n",
    "    min_coord, max_coord = np.min(vertices, axis=0, keepdims=True), np.max(vertices, axis=0, keepdims=True)\n",
    "    cmap = (vertices - min_coord) / (max_coord - min_coord)\n",
    "    return cmap\n"
   ]
  },
  {
   "cell_type": "markdown",
   "metadata": {},
   "source": [
    "# 2- Loading and processing a mesh"
   ]
  },
  {
   "cell_type": "markdown",
   "metadata": {},
   "source": [
    "### Basic Mesh methods"
   ]
  },
  {
   "cell_type": "markdown",
   "metadata": {},
   "source": [
    "A TriMesh class can be created from a path (to a .off or a .obj file) or simply an array of vertices and an optional array of faces.\n",
    "\n",
    "The mesh can be centered, area-normalized, rotated or translated when loading.\n",
    "\n",
    "\n",
    "Vertices and faces are stored in the 'vertlist' and 'facelist' attributes. One can also use 'mesh.vertices' and 'mesh.faces' to access them. While these notations can feel non-intuitive they result in clearer functions as it avoids expressions of the form ```mesh.vertices - vertices```.\n",
    "\n",
    "A TriMesh class possess multiple attributes like edges, per-face area, per-vertex area, per-face normals, per-vertex normals, ..."
   ]
  },
  {
   "cell_type": "markdown",
   "metadata": {},
   "source": [
    "\n"
   ]
  },
  {
   "cell_type": "code",
   "execution_count": 2,
   "metadata": {},
   "outputs": [],
   "source": [
    "mesh1 = TriMesh('data/lion-00.off', area_normalize=True, center=False)\n",
    "mesh2 = TriMesh('data/cat-00.off', area_normalize=True, center=False)\n",
    "# pcd2 = TriMesh(np.load('data/cat-00.npy'))\n"
   ]
  },
  {
   "cell_type": "code",
   "execution_count": null,
   "metadata": {},
   "outputs": [
    {
     "data": {
      "text/plain": [
       "(5000, 3)"
      ]
     },
     "execution_count": 4,
     "metadata": {},
     "output_type": "execute_result"
    }
   ],
   "source": [
    "mesh1.vertlist.shape"
   ]
  },
  {
   "cell_type": "code",
   "execution_count": null,
   "metadata": {},
   "outputs": [
    {
     "data": {
      "application/vnd.jupyter.widget-view+json": {
       "model_id": "0d4eef9771254389a4cf366d92632197",
       "version_major": 2,
       "version_minor": 0
      },
      "text/plain": [
       "Renderer(camera=PerspectiveCamera(children=(DirectionalLight(color='white', intensity=0.6, position=(-1.359730…"
      ]
     },
     "metadata": {},
     "output_type": "display_data"
    },
    {
     "data": {
      "application/vnd.jupyter.widget-view+json": {
       "model_id": "97a8ec2493ce44eeacb50c5ce04ddfe0",
       "version_major": 2,
       "version_minor": 0
      },
      "text/plain": [
       "Renderer(camera=PerspectiveCamera(children=(DirectionalLight(color='white', intensity=0.6, position=(-0.001617…"
      ]
     },
     "metadata": {},
     "output_type": "display_data"
    }
   ],
   "source": [
    "plot_mesh(mesh1)\n",
    "plot_mesh(mesh2)"
   ]
  },
  {
   "cell_type": "code",
   "execution_count": null,
   "metadata": {},
   "outputs": [],
   "source": [
    "# # Attributes are computed on the fly and cached\n",
    "# edges = mesh1.edges\n",
    "#\n",
    "# area = mesh1.area\n",
    "#\n",
    "# face_areas = mesh1.face_areas\n",
    "# vertex_areas = mesh1.vertex_areas\n",
    "# face_normals = mesh1.normals\n",
    "#\n",
    "# # AREA WEIGHTED VERTEX NORMALS\n",
    "# vertex_normals_a = mesh1.vertex_normals\n",
    "#\n",
    "# # UNIFORM WEIGHTED VERTEX NORMALS\n",
    "# mesh1.set_vertex_normal_weighting('uniform')\n",
    "# vertex_normals_u = mesh1.vertex_normals"
   ]
  },
  {
   "cell_type": "markdown",
   "metadata": {},
   "source": [
    "### Geodesics"
   ]
  },
  {
   "cell_type": "markdown",
   "metadata": {},
   "source": [
    "We propose three versions to compute geodesics :\n",
    "- Heat method - based on [potpourri3d](https://github.com/nmwsharp/potpourri3d) using robust laplacian (recommended)\n",
    "- Heat method - pure python implementation from pyFM (not robust but control on the whole code)\n",
    "- Dijkstra"
   ]
  },
  {
   "cell_type": "code",
   "execution_count": null,
   "metadata": {},
   "outputs": [],
   "source": [
    "# Geodesic distance from a given index\n",
    "# Set robust to False to obtain result from the Python implementation\n",
    "dists = mesh1.geod_from(1000, robust=True)"
   ]
  },
  {
   "cell_type": "code",
   "execution_count": null,
   "metadata": {},
   "outputs": [
    {
     "data": {
      "application/vnd.jupyter.widget-view+json": {
       "model_id": "be59d65cad69488492e6a3a08d9b4448",
       "version_major": 2,
       "version_minor": 0
      },
      "text/plain": [
       "  0%|          | 0/5000 [00:00<?, ?it/s]"
      ]
     },
     "metadata": {},
     "output_type": "display_data"
    }
   ],
   "source": [
    "S1_geod = mesh1.get_geodesic(verbose=True)"
   ]
  },
  {
   "cell_type": "code",
   "execution_count": null,
   "metadata": {},
   "outputs": [
    {
     "data": {
      "text/plain": [
       "(5000, 5000)"
      ]
     },
     "execution_count": 9,
     "metadata": {},
     "output_type": "execute_result"
    }
   ],
   "source": [
    "S1_geod.shape"
   ]
  },
  {
   "cell_type": "markdown",
   "metadata": {},
   "source": [
    "### Laplacian and functions"
   ]
  },
  {
   "cell_type": "markdown",
   "metadata": {},
   "source": [
    "The spectrum of the LBO can be computed easily.\n",
    "\n",
    "Eigenvalues and eigenvectors are stored in the ```mesh.eigenvalues``` and ```mesh.eigenvectors``` attributes.\n",
    "\n",
    "Gradient and divergence can be computed using the associated methods. Using the ```mesh.project``` and ```mesh.unproject``` functions allows to switch between seeing a function in the LBO basis or on the complete shape.\n",
    "\n",
    "The squared $L^2$ norm and $H^1_0$ norm can be computed via the ```mesh.l2_sqnorm``` and ```mesh.h1_sqnorm``` methods."
   ]
  },
  {
   "cell_type": "code",
   "execution_count": 3,
   "metadata": {},
   "outputs": [
    {
     "ename": "NameError",
     "evalue": "name 'mesh1' is not defined",
     "output_type": "error",
     "traceback": [
      "\u001b[1;31m---------------------------------------------------------------------------\u001b[0m",
      "\u001b[1;31mNameError\u001b[0m                                 Traceback (most recent call last)",
      "Cell \u001b[1;32mIn[3], line 2\u001b[0m\n\u001b[0;32m      1\u001b[0m \u001b[38;5;66;03m# By default does not use the intrinsic delaunay Laplacian\u001b[39;00m\n\u001b[1;32m----> 2\u001b[0m \u001b[43mmesh1\u001b[49m\u001b[38;5;241m.\u001b[39mprocess(k\u001b[38;5;241m=\u001b[39m\u001b[38;5;241m3\u001b[39m, intrinsic\u001b[38;5;241m=\u001b[39m\u001b[38;5;28;01mFalse\u001b[39;00m, verbose\u001b[38;5;241m=\u001b[39m\u001b[38;5;28;01mTrue\u001b[39;00m); \u001b[38;5;66;03m#should replace by spectralnet\u001b[39;00m\n",
      "\u001b[1;31mNameError\u001b[0m: name 'mesh1' is not defined"
     ]
    }
   ],
   "source": [
    "# By default does not use the intrinsic delaunay Laplacian\n",
    "mesh1.process(k=3, intrinsic=False, verbose=True); #should replace by spectralnet"
   ]
  },
  {
   "cell_type": "code",
   "execution_count": 11,
   "metadata": {},
   "outputs": [
    {
     "data": {
      "application/vnd.jupyter.widget-view+json": {
       "model_id": "ec7768e1affd41f589b0c3f868aa6406",
       "version_major": 2,
       "version_minor": 0
      },
      "text/plain": [
       "Renderer(camera=PerspectiveCamera(children=(DirectionalLight(color='white', intensity=0.6, position=(-1.359730…"
      ]
     },
     "metadata": {},
     "output_type": "display_data"
    }
   ],
   "source": [
    "# plot the third eigenfunction\n",
    "plot_mesh(mesh1, mesh1.eigenvectors[:,2])"
   ]
  },
  {
   "cell_type": "markdown",
   "metadata": {},
   "source": [
    "# 3 - Computing the functional map"
   ]
  },
  {
   "cell_type": "markdown",
   "metadata": {},
   "source": [
    "**Loading data**"
   ]
  },
  {
   "cell_type": "code",
   "execution_count": 4,
   "metadata": {},
   "outputs": [
    {
     "name": "stdout",
     "output_type": "stream",
     "text": [
      "Mesh 1 : 7207 vertices, 14410 faces\n",
      "Mesh 2 : 5000 vertices,  9996 faces\n"
     ]
    },
    {
     "data": {
      "application/vnd.jupyter.widget-view+json": {
       "model_id": "9b446ccb144746eca4ce8bd80fe0db67",
       "version_major": 2,
       "version_minor": 0
      },
      "text/plain": [
       "HBox(children=(Output(), Output()))"
      ]
     },
     "metadata": {},
     "output_type": "display_data"
    },
    {
     "data": {
      "application/vnd.jupyter.widget-view+json": {
       "model_id": "12c5a7bdcd9948c7839497208058ff37",
       "version_major": 2,
       "version_minor": 0
      },
      "text/plain": [
       "HBox(children=(Output(), Output()))"
      ]
     },
     "metadata": {},
     "output_type": "display_data"
    }
   ],
   "source": [
    "# mesh1 = TriMesh(np.load('data/lion-00_1e5.npy'))\n",
    "# mesh2 = TriMesh(np.load('data/cat-00_1e5.npy'))\n",
    "mesh1 = TriMesh('data/cat-00.off', area_normalize=True, center=False)\n",
    "mesh2 = TriMesh('data/lion-00.off')\n",
    "\n",
    "print(f'Mesh 1 : {mesh1.n_vertices:4d} vertices, {mesh1.n_faces:5d} faces\\n'\n",
    "      f'Mesh 2 : {mesh2.n_vertices:4d} vertices, {mesh2.n_faces:5d} faces')\n",
    "\n",
    "double_plot(mesh1,mesh2)"
   ]
  },
  {
   "cell_type": "markdown",
   "metadata": {},
   "source": [
    "**Computing descriptors**"
   ]
  },
  {
   "cell_type": "code",
   "execution_count": 5,
   "metadata": {},
   "outputs": [
    {
     "name": "stdout",
     "output_type": "stream",
     "text": [
      "\n",
      "Computing Laplacian spectrum\n",
      "Computing 200 eigenvectors\n",
      "\tDone in 4.03 s\n",
      "Computing 200 eigenvectors\n",
      "\tDone in 2.23 s\n",
      "\n",
      "Computing descriptors\n",
      "\tNormalizing descriptors\n",
      "\n",
      "\t150 out of 600 possible descriptors kept\n"
     ]
    }
   ],
   "source": [
    "from pyFM.functional import FunctionalMapping\n",
    "\n",
    "process_params = {\n",
    "    'n_ev': (35,35),  # Number of eigenvalues on source and Target\n",
    "    'landmarks': np.loadtxt('data/landmarks.txt',dtype=int)[:5],  # loading 5 landmarks\n",
    "    'subsample_step': 4,  # In order not to use too many descriptors\n",
    "    'descr_type': 'WKS',  # WKS or HKS\n",
    "}\n",
    "\n",
    "model = FunctionalMapping(mesh1,mesh2)\n",
    "model.preprocess(**process_params,verbose=True);"
   ]
  },
  {
   "cell_type": "code",
   "execution_count": 14,
   "metadata": {},
   "outputs": [],
   "source": [
    "# model.mesh1.load_eigen_vectors('eigen_vectors_lion_1e5.npy')\n",
    "# model.mesh2.load_eigen_vectors('eigen_vectors_cat_1e5.npy')\n",
    "# model.mesh1.load_eigen_vectors('data/emb_cat_off_35.npy')\n",
    "# model.mesh2.load_eigen_vectors('data/emb_lion_off_35.npy')\n",
    "# np.load('data/emb_cat_off_35.npy').shape"
   ]
  },
  {
   "cell_type": "markdown",
   "metadata": {},
   "source": [
    "**Fitting the model**"
   ]
  },
  {
   "cell_type": "markdown",
   "metadata": {},
   "source": [
    "$\\newcommand{\\RR}{\\mathbb{R}}$\n",
    "$\\newcommand{\\Ss}{\\mathcal{S}}$\n",
    "$\\newcommand{\\uargmin}[1]{\\underset{#1}{\\text{argmin}}\\;}$\n",
    "$\\newcommand{\\uargmax}[1]{\\underset{#1}{\\text{argmax}}\\;}$\n",
    "$\\def\\*#1{\\mathbf{#1}}$\n",
    "\n",
    "In pyFM, we always consider functional maps $\\*C:\\Ss_1\\to\\Ss_2$ and pointwise maps $T:\\Ss_2\\to\\Ss_1$ going in opposite directions, with $\\*C$ always going from shape 1 to shape 2 !\n",
    "\n",
    "Optimization problem is\n",
    "\\begin{equation}\n",
    "\\uargmin{\\*C\\in\\RR^{k_2\\times k_1}} w_{descr}\\|\\*C\\*A - \\*B\\|^2 + w_{lap}\\|\\*C\\Delta_1 - \\Delta_2\\*C\\|^2 + w_{\\text{d- comm}}\\sum_i \\|\\*C\\Gamma_1^i - \\Gamma_2^i\\*C\\|^2 + w_{\\text{orient}}\\sum_i \\|\\*C\\Lambda_1^i - \\Lambda_2^i\\*C\\|^2\n",
    "\\end{equation}\n",
    "\n",
    "with $\\Gamma_1^i$ and $\\Gamma_2^i$ [multipliative operators](http://www.lix.polytechnique.fr/~maks/papers/fundescEG17.pdf) associated to the $i$-th descriptors, $\\Lambda_1^i$ and $\\Lambda_2^i$ [orientation preserving operators](https://arxiv.org/abs/1806.04455) associated to the $i$-th descriptors"
   ]
  },
  {
   "cell_type": "code",
   "execution_count": 15,
   "metadata": {},
   "outputs": [
    {
     "name": "stdout",
     "output_type": "stream",
     "text": [
      "Computing commutativity operators\n",
      "\tScaling LBO commutativity weight by 8.6e-09\n",
      "\n",
      "Optimization :\n",
      "\t35 Ev on source - 35 Ev on Target\n",
      "\tUsing 150 Descriptors\n",
      "\tHyperparameters :\n",
      "\t\tDescriptors preservation :1.0e-01\n",
      "\t\tDescriptors commutativity :1.0e-01\n",
      "\t\tLaplacian commutativity :1.0e-02\n",
      "\t\tOrientation preservation :0.0e+00\n",
      "\n",
      "\tTask : CONVERGENCE: REL_REDUCTION_OF_F_<=_FACTR*EPSMCH, funcall : 45, nit : 41, warnflag : 0\n",
      "\tDone in 0.49 seconds\n"
     ]
    }
   ],
   "source": [
    "fit_params = {\n",
    "    'w_descr': 1e-1,\n",
    "    'w_lap': 1e-2,\n",
    "    'w_dcomm': 1e-1,\n",
    "    'w_orient': 0\n",
    "}\n",
    "\n",
    "model.fit(**fit_params, verbose=True)"
   ]
  },
  {
   "cell_type": "markdown",
   "metadata": {},
   "source": [
    "**Visualizing the associated point to point map**"
   ]
  },
  {
   "cell_type": "code",
   "execution_count": 16,
   "metadata": {
    "scrolled": false
   },
   "outputs": [
    {
     "data": {
      "application/vnd.jupyter.widget-view+json": {
       "model_id": "64f45e4fdd2f46faaf06ab2c4139bbd3",
       "version_major": 2,
       "version_minor": 0
      },
      "text/plain": [
       "HBox(children=(Output(), Output()))"
      ]
     },
     "metadata": {},
     "output_type": "display_data"
    },
    {
     "data": {
      "application/vnd.jupyter.widget-view+json": {
       "model_id": "374635c173944f9eae1b53d6c7909695",
       "version_major": 2,
       "version_minor": 0
      },
      "text/plain": [
       "HBox(children=(Output(), Output()))"
      ]
     },
     "metadata": {},
     "output_type": "display_data"
    }
   ],
   "source": [
    "p2p_21 = model.get_p2p(n_jobs=1)\n",
    "cmap1 = visu(mesh1.vertlist); cmap2 = cmap1[p2p_21]\n",
    "double_plot(mesh1,mesh2,cmap1,cmap2)"
   ]
  },
  {
   "cell_type": "markdown",
   "metadata": {},
   "source": [
    "# 4 - Refining the Functional Map\n",
    "```model.FM``` returns the current state of functional map. One can change which one is returned by using ```model.change_FM_type(FM_type)```, as one can see below. \n",
    "\n",
    "**ICP**"
   ]
  },
  {
   "cell_type": "code",
   "execution_count": 4,
   "metadata": {},
   "outputs": [
    {
     "data": {
      "application/vnd.jupyter.widget-view+json": {
       "model_id": "f0bb8f5c4b2d4526b7eaa5ca07976226",
       "version_major": 2,
       "version_minor": 0
      },
      "text/plain": [
       "  0%|          | 0/10 [00:00<?, ?it/s]"
      ]
     },
     "metadata": {},
     "output_type": "display_data"
    },
    {
     "data": {
      "application/vnd.jupyter.widget-view+json": {
       "model_id": "4aa72803d60d40ada426f778ce96c7bd",
       "version_major": 2,
       "version_minor": 0
      },
      "text/plain": [
       "HBox(children=(Output(), Output()))"
      ]
     },
     "metadata": {},
     "output_type": "display_data"
    },
    {
     "data": {
      "application/vnd.jupyter.widget-view+json": {
       "model_id": "99f1be0f6f494361997386af199e9d42",
       "version_major": 2,
       "version_minor": 0
      },
      "text/plain": [
       "HBox(children=(Output(), Output()))"
      ]
     },
     "metadata": {},
     "output_type": "display_data"
    }
   ],
   "source": [
    "model.icp_refine(verbose=True)\n",
    "p2p_21_icp = model.get_p2p()\n",
    "cmap1 = visu(mesh1.vertlist); cmap2 = cmap1[p2p_21_icp]\n",
    "double_plot(mesh1,mesh2,cmap1,cmap2)"
   ]
  },
  {
   "cell_type": "markdown",
   "metadata": {},
   "source": [
    "**Zoomout**"
   ]
  },
  {
   "cell_type": "code",
   "execution_count": 5,
   "metadata": {
    "scrolled": false
   },
   "outputs": [
    {
     "ename": "AssertionError",
     "evalue": "Not enough eigenvectors on source :         25 are needed when 10 are provided",
     "output_type": "error",
     "traceback": [
      "\u001b[1;31m---------------------------------------------------------------------------\u001b[0m",
      "\u001b[1;31mAssertionError\u001b[0m                            Traceback (most recent call last)",
      "Cell \u001b[1;32mIn[5], line 2\u001b[0m\n\u001b[0;32m      1\u001b[0m model\u001b[38;5;241m.\u001b[39mchange_FM_type(\u001b[38;5;124m'\u001b[39m\u001b[38;5;124mclassic\u001b[39m\u001b[38;5;124m'\u001b[39m) \u001b[38;5;66;03m# We refine the first computed map, not the icp-refined one\u001b[39;00m\n\u001b[1;32m----> 2\u001b[0m model\u001b[38;5;241m.\u001b[39mzoomout_refine(nit\u001b[38;5;241m=\u001b[39m\u001b[38;5;241m15\u001b[39m, step \u001b[38;5;241m=\u001b[39m \u001b[38;5;241m1\u001b[39m, verbose\u001b[38;5;241m=\u001b[39m\u001b[38;5;28;01mTrue\u001b[39;00m)\n\u001b[0;32m      3\u001b[0m \u001b[38;5;28mprint\u001b[39m(model\u001b[38;5;241m.\u001b[39mFM\u001b[38;5;241m.\u001b[39mshape)\n\u001b[0;32m      4\u001b[0m p2p_21_zo \u001b[38;5;241m=\u001b[39m model\u001b[38;5;241m.\u001b[39mget_p2p()\n",
      "File \u001b[1;32mc:\\Users\\Yuval\\OneDrive\\Documents\\master\\articales\\scalabilFM\\pyFM\\functional.py:406\u001b[0m, in \u001b[0;36mFunctionalMapping.zoomout_refine\u001b[1;34m(self, nit, step, subsample, use_ANN, overwrite, verbose)\u001b[0m\n\u001b[0;32m    403\u001b[0m     sub2 \u001b[38;5;241m=\u001b[39m \u001b[38;5;28mself\u001b[39m\u001b[38;5;241m.\u001b[39mmesh2\u001b[38;5;241m.\u001b[39mextract_fps(subsample)\n\u001b[0;32m    404\u001b[0m     sub \u001b[38;5;241m=\u001b[39m (sub1,sub2)\n\u001b[1;32m--> 406\u001b[0m \u001b[38;5;28mself\u001b[39m\u001b[38;5;241m.\u001b[39m_FM_zo \u001b[38;5;241m=\u001b[39m pyFM\u001b[38;5;241m.\u001b[39mrefine\u001b[38;5;241m.\u001b[39mmesh_zoomout_refine(\u001b[38;5;28mself\u001b[39m\u001b[38;5;241m.\u001b[39mFM, \u001b[38;5;28mself\u001b[39m\u001b[38;5;241m.\u001b[39mmesh1, \u001b[38;5;28mself\u001b[39m\u001b[38;5;241m.\u001b[39mmesh2, nit,\n\u001b[0;32m    407\u001b[0m                                               step\u001b[38;5;241m=\u001b[39mstep, subsample\u001b[38;5;241m=\u001b[39msub, use_ANN\u001b[38;5;241m=\u001b[39muse_ANN, verbose\u001b[38;5;241m=\u001b[39mverbose)\n\u001b[0;32m    408\u001b[0m \u001b[38;5;28;01mif\u001b[39;00m overwrite:\n\u001b[0;32m    409\u001b[0m     \u001b[38;5;28mself\u001b[39m\u001b[38;5;241m.\u001b[39mFM_type \u001b[38;5;241m=\u001b[39m \u001b[38;5;124m'\u001b[39m\u001b[38;5;124mzoomout\u001b[39m\u001b[38;5;124m'\u001b[39m\n",
      "File \u001b[1;32mc:\\Users\\Yuval\\OneDrive\\Documents\\master\\articales\\scalabilFM\\pyFM\\refine\\zoomout.py:142\u001b[0m, in \u001b[0;36mmesh_zoomout_refine\u001b[1;34m(FM_12, mesh1, mesh2, nit, step, subsample, use_ANN, return_p2p, n_jobs, verbose)\u001b[0m\n\u001b[0;32m    139\u001b[0m     sub2 \u001b[38;5;241m=\u001b[39m mesh2\u001b[38;5;241m.\u001b[39mextract_fps(subsample)\n\u001b[0;32m    140\u001b[0m     subsample \u001b[38;5;241m=\u001b[39m (sub1, sub2)\n\u001b[1;32m--> 142\u001b[0m result \u001b[38;5;241m=\u001b[39m zoomout_refine(FM_12, mesh1\u001b[38;5;241m.\u001b[39meigenvectors, mesh2\u001b[38;5;241m.\u001b[39meigenvectors, nit,\n\u001b[0;32m    143\u001b[0m                         step\u001b[38;5;241m=\u001b[39mstep, A2\u001b[38;5;241m=\u001b[39mmesh2\u001b[38;5;241m.\u001b[39mA, subsample\u001b[38;5;241m=\u001b[39msubsample,\n\u001b[0;32m    144\u001b[0m                         use_ANN\u001b[38;5;241m=\u001b[39muse_ANN, return_p2p\u001b[38;5;241m=\u001b[39mreturn_p2p,\n\u001b[0;32m    145\u001b[0m                         n_jobs\u001b[38;5;241m=\u001b[39mn_jobs, verbose\u001b[38;5;241m=\u001b[39mverbose)\n\u001b[0;32m    147\u001b[0m \u001b[38;5;28;01mreturn\u001b[39;00m result\n",
      "File \u001b[1;32mc:\\Users\\Yuval\\OneDrive\\Documents\\master\\articales\\scalabilFM\\pyFM\\refine\\zoomout.py:75\u001b[0m, in \u001b[0;36mzoomout_refine\u001b[1;34m(FM_12, evects1, evects2, nit, step, A2, subsample, use_ANN, return_p2p, n_jobs, verbose)\u001b[0m\n\u001b[0;32m     72\u001b[0m     step1 \u001b[38;5;241m=\u001b[39m step\n\u001b[0;32m     73\u001b[0m     step2 \u001b[38;5;241m=\u001b[39m step\n\u001b[1;32m---> 75\u001b[0m \u001b[38;5;28;01massert\u001b[39;00m k1_0 \u001b[38;5;241m+\u001b[39m nit\u001b[38;5;241m*\u001b[39mstep1 \u001b[38;5;241m<\u001b[39m\u001b[38;5;241m=\u001b[39m evects1\u001b[38;5;241m.\u001b[39mshape[\u001b[38;5;241m1\u001b[39m], \\\n\u001b[0;32m     76\u001b[0m     \u001b[38;5;124mf\u001b[39m\u001b[38;5;124m\"\u001b[39m\u001b[38;5;124mNot enough eigenvectors on source : \u001b[39m\u001b[38;5;130;01m\\\u001b[39;00m\n\u001b[0;32m     77\u001b[0m \u001b[38;5;124m    \u001b[39m\u001b[38;5;132;01m{\u001b[39;00mk1_0\u001b[38;5;250m \u001b[39m\u001b[38;5;241m+\u001b[39m\u001b[38;5;250m \u001b[39mnit\u001b[38;5;241m*\u001b[39mstep1\u001b[38;5;132;01m}\u001b[39;00m\u001b[38;5;124m are needed when \u001b[39m\u001b[38;5;132;01m{\u001b[39;00mevects1\u001b[38;5;241m.\u001b[39mshape[\u001b[38;5;241m1\u001b[39m]\u001b[38;5;132;01m}\u001b[39;00m\u001b[38;5;124m are provided\u001b[39m\u001b[38;5;124m\"\u001b[39m\n\u001b[0;32m     78\u001b[0m \u001b[38;5;28;01massert\u001b[39;00m k2_0 \u001b[38;5;241m+\u001b[39m nit\u001b[38;5;241m*\u001b[39mstep2 \u001b[38;5;241m<\u001b[39m\u001b[38;5;241m=\u001b[39m evects2\u001b[38;5;241m.\u001b[39mshape[\u001b[38;5;241m1\u001b[39m], \\\n\u001b[0;32m     79\u001b[0m     \u001b[38;5;124mf\u001b[39m\u001b[38;5;124m\"\u001b[39m\u001b[38;5;124mNot enough eigenvectors on target : \u001b[39m\u001b[38;5;130;01m\\\u001b[39;00m\n\u001b[0;32m     80\u001b[0m \u001b[38;5;124m    \u001b[39m\u001b[38;5;132;01m{\u001b[39;00mk2_0\u001b[38;5;250m \u001b[39m\u001b[38;5;241m+\u001b[39m\u001b[38;5;250m \u001b[39mnit\u001b[38;5;241m*\u001b[39mstep2\u001b[38;5;132;01m}\u001b[39;00m\u001b[38;5;124m are needed when \u001b[39m\u001b[38;5;132;01m{\u001b[39;00mevects2\u001b[38;5;241m.\u001b[39mshape[\u001b[38;5;241m1\u001b[39m]\u001b[38;5;132;01m}\u001b[39;00m\u001b[38;5;124m are provided\u001b[39m\u001b[38;5;124m\"\u001b[39m\n\u001b[0;32m     82\u001b[0m use_subsample \u001b[38;5;241m=\u001b[39m \u001b[38;5;28;01mFalse\u001b[39;00m\n",
      "\u001b[1;31mAssertionError\u001b[0m: Not enough eigenvectors on source :         25 are needed when 10 are provided"
     ]
    }
   ],
   "source": [
    "model.change_FM_type('classic') # We refine the first computed map, not the icp-refined one\n",
    "model.zoomout_refine(nit=15, step = 1, verbose=True)\n",
    "print(model.FM.shape)\n",
    "p2p_21_zo = model.get_p2p()\n",
    "cmap1 = visu(mesh1.vertlist); cmap2 = cmap1[p2p_21_zo]\n",
    "double_plot(mesh1,mesh2,cmap1,cmap2)"
   ]
  },
  {
   "cell_type": "markdown",
   "metadata": {},
   "source": [
    "# Evaluating Results"
   ]
  },
  {
   "cell_type": "code",
   "execution_count": 6,
   "metadata": {},
   "outputs": [],
   "source": [
    "import pyFM.eval"
   ]
  },
  {
   "cell_type": "code",
   "execution_count": 7,
   "metadata": {},
   "outputs": [
    {
     "data": {
      "application/vnd.jupyter.widget-view+json": {
       "model_id": "f104574dccf242febace07fbf0378816",
       "version_major": 2,
       "version_minor": 0
      },
      "text/plain": [
       "  0%|          | 0/7207 [00:00<?, ?it/s]"
      ]
     },
     "metadata": {},
     "output_type": "display_data"
    }
   ],
   "source": [
    "# Compute geodesic distance matrix on the cat mesh\n",
    "A_geod = mesh1.get_geodesic(verbose=True)"
   ]
  },
  {
   "cell_type": "code",
   "execution_count": null,
   "metadata": {},
   "outputs": [
    {
     "ename": "",
     "evalue": "",
     "output_type": "error",
     "traceback": [
      "\u001b[1;31mRunning cells with 'c:\\Users\\Yuval\\AppData\\Local\\Programs\\Python\\Python312\\python.exe' requires the ipykernel package.\n",
      "\u001b[1;31mRun the following command to install 'ipykernel' into the Python environment. \n",
      "\u001b[1;31mCommand: 'c:/Users/Yuval/AppData/Local/Programs/Python/Python312/python.exe -m pip install ipykernel -U --user --force-reinstall'"
     ]
    }
   ],
   "source": [
    "# Load an approximate ground truth map\n",
    "gt_p2p = np.loadtxt('data/lion2cat',dtype=int)\n",
    "\n",
    "acc_base = pyFM.eval.accuracy(p2p_21, gt_p2p, A_geod, sqrt_area=mesh1.sqrtarea)\n",
    "\n",
    "acc_icp = pyFM.eval.accuracy(p2p_21_icp, gt_p2p, A_geod, sqrt_area=np.sqrt(mesh1.area))\n",
    "\n",
    "acc_zo = pyFM.eval.accuracy(p2p_21_zo, gt_p2p, A_geod, sqrt_area=np.sqrt(mesh1.area))\n",
    "\n",
    "print(f'Accuracy results\\n'\n",
    "      f'\\tBasic FM : {1e3*acc_base:.2f}\\n'\n",
    "      f'\\tICP refined : {1e3*acc_icp:.2f}\\n'\n",
    "      f'\\tZoomOut refined : {1e3*acc_zo:.2f}\\n')"
   ]
  },
  {
   "cell_type": "code",
   "execution_count": 1,
   "metadata": {},
   "outputs": [
    {
     "name": "stdout",
     "output_type": "stream",
     "text": [
      "\n",
      "Computing Laplacian spectrum\n",
      "Computing 10 eigenvectors\n",
      "eigenvalues sum : 315.40331138528313\n",
      "Training SpectralNet:\n"
     ]
    },
    {
     "name": "stderr",
     "output_type": "stream",
     "text": [
      "  0%|          | 0/3 [00:00<?, ?it/s]"
     ]
    },
    {
     "name": "stdout",
     "output_type": "stream",
     "text": [
      "tensor([[ 7.2070e+03,  3.0518e-05,  9.1553e-04,  9.7656e-04,  2.3193e-03,\n",
      "          6.0730e-03,  1.4343e-03,  1.1086e-02,  2.3499e-03,  1.3702e-02],\n",
      "        [ 3.0518e-05,  7.2070e+03, -5.2490e-03, -1.9531e-03, -1.5488e-03,\n",
      "         -1.0223e-02, -3.8147e-03, -2.9373e-04, -2.6119e-02, -1.3466e-02],\n",
      "        [ 9.1553e-04, -5.2490e-03,  7.2070e+03,  1.0986e-03,  6.7139e-04,\n",
      "         -5.9204e-03,  9.7656e-04, -2.1057e-03, -1.6479e-02,  5.0049e-03],\n",
      "        [ 9.7656e-04, -1.9531e-03,  1.0986e-03,  7.2070e+03,  6.1035e-04,\n",
      "         -3.6621e-04,  9.1553e-04,  1.4343e-03, -5.4932e-04,  4.2725e-04],\n",
      "        [ 2.3193e-03, -1.5488e-03,  6.7139e-04,  6.1035e-04,  7.2070e+03,\n",
      "         -2.5635e-03,  3.1738e-03,  2.9831e-03, -4.5471e-03,  4.1199e-03],\n",
      "        [ 6.0730e-03, -1.0223e-02, -5.9204e-03, -3.6621e-04, -2.5635e-03,\n",
      "          7.2070e+03, -3.0518e-05, -5.6648e-04, -3.4485e-03, -2.1362e-04],\n",
      "        [ 1.4343e-03, -3.8147e-03,  9.7656e-04,  9.1553e-04,  3.1738e-03,\n",
      "         -3.0518e-05,  7.2070e+03,  1.4478e-03, -5.6458e-04,  2.3346e-03],\n",
      "        [ 1.1086e-02, -2.9373e-04, -2.1057e-03,  1.4343e-03,  2.9831e-03,\n",
      "         -5.6648e-04,  1.4478e-03,  7.2070e+03, -8.0109e-04,  3.6621e-04],\n",
      "        [ 2.3499e-03, -2.6119e-02, -1.6479e-02, -5.4932e-04, -4.5471e-03,\n",
      "         -3.4485e-03, -5.6458e-04, -8.0109e-04,  7.2070e+03, -6.6376e-04],\n",
      "        [ 1.3702e-02, -1.3466e-02,  5.0049e-03,  4.2725e-04,  4.1199e-03,\n",
      "         -2.1362e-04,  2.3346e-03,  3.6621e-04, -6.6376e-04,  7.2070e+03]],\n",
      "       grad_fn=<MmBackward0>)\n"
     ]
    },
    {
     "name": "stderr",
     "output_type": "stream",
     "text": [
      "Train Loss: 125.5873064, LR: 0.010000:  33%|███▎      | 1/3 [00:10<00:20, 10.07s/it]"
     ]
    },
    {
     "name": "stdout",
     "output_type": "stream",
     "text": [
      "tensor([[ 7.2070e+03,  1.5564e-03, -2.7847e-03, -3.1433e-03, -3.0823e-03,\n",
      "         -3.2135e-02,  1.4069e-02,  6.5475e-02,  2.1362e-02,  2.3193e-03],\n",
      "        [ 1.5564e-03,  7.2070e+03, -1.0452e-03, -9.1553e-04, -4.2725e-04,\n",
      "          4.9133e-03,  8.7128e-03,  5.6381e-03,  2.1484e-02, -7.2021e-03],\n",
      "        [-2.7847e-03, -1.0452e-03,  7.2070e+03,  7.6294e-05, -2.5177e-03,\n",
      "          1.2527e-02, -1.5450e-03, -5.3749e-03, -4.9973e-03, -3.0457e-02],\n",
      "        [-3.1433e-03, -9.1553e-04,  7.6294e-05,  7.2070e+03,  8.5449e-04,\n",
      "          7.4158e-03, -1.5411e-03,  8.2397e-04, -6.3782e-03,  9.1553e-03],\n",
      "        [-3.0823e-03, -4.2725e-04, -2.5177e-03,  8.5449e-04,  7.2070e+03,\n",
      "          2.1362e-03,  2.2888e-03, -2.4948e-03, -1.2207e-03,  6.7139e-03],\n",
      "        [-3.2135e-02,  4.9133e-03,  1.2527e-02,  7.4158e-03,  2.1362e-03,\n",
      "          7.2070e+03,  8.5449e-04,  3.2043e-04,  5.1880e-04, -1.8311e-03],\n",
      "        [ 1.4069e-02,  8.7128e-03, -1.5450e-03, -1.5411e-03,  2.2888e-03,\n",
      "          8.5449e-04,  7.2070e+03, -8.6451e-04,  5.9509e-04,  1.5869e-03],\n",
      "        [ 6.5475e-02,  5.6381e-03, -5.3749e-03,  8.2397e-04, -2.4948e-03,\n",
      "          3.2043e-04, -8.6451e-04,  7.2070e+03, -8.6212e-04, -1.1787e-03],\n",
      "        [ 2.1362e-02,  2.1484e-02, -4.9973e-03, -6.3782e-03, -1.2207e-03,\n",
      "          5.1880e-04,  5.9509e-04, -8.6212e-04,  7.2070e+03,  1.3428e-03],\n",
      "        [ 2.3193e-03, -7.2021e-03, -3.0457e-02,  9.1553e-03,  6.7139e-03,\n",
      "         -1.8311e-03,  1.5869e-03, -1.1787e-03,  1.3428e-03,  7.2070e+03]],\n",
      "       grad_fn=<MmBackward0>)\n"
     ]
    },
    {
     "name": "stderr",
     "output_type": "stream",
     "text": [
      "Train Loss: 72.7894200, LR: 0.010000:  67%|██████▋   | 2/3 [00:20<00:10, 10.13s/it] "
     ]
    },
    {
     "name": "stdout",
     "output_type": "stream",
     "text": [
      "tensor([[ 7.2070e+03, -9.3079e-04,  7.6294e-04, -2.7466e-04, -7.2021e-03,\n",
      "          1.5991e-02, -3.8147e-05,  1.9287e-02, -9.1293e-02,  4.8981e-03],\n",
      "        [-9.3079e-04,  7.2070e+03, -1.8311e-03,  5.5084e-03, -3.1433e-02,\n",
      "         -6.3629e-03,  5.8409e-02,  4.8813e-02,  6.1066e-02,  2.1797e-02],\n",
      "        [ 7.6294e-04, -1.8311e-03,  7.2070e+03,  3.0518e-04, -4.1504e-03,\n",
      "         -1.4954e-03,  5.4550e-04,  1.4069e-02,  9.6130e-03, -1.6785e-04],\n",
      "        [-2.7466e-04,  5.5084e-03,  3.0518e-04,  7.2070e+03, -1.0986e-03,\n",
      "         -7.6294e-05, -2.0752e-03,  3.7689e-03,  2.6016e-03, -2.2583e-03],\n",
      "        [-7.2021e-03, -3.1433e-02, -4.1504e-03, -1.0986e-03,  7.2070e+03,\n",
      "         -3.6621e-04,  1.8311e-04,  2.1973e-03, -1.3428e-03,  3.6621e-04],\n",
      "        [ 1.5991e-02, -6.3629e-03, -1.4954e-03, -7.6294e-05, -3.6621e-04,\n",
      "          7.2070e+03,  5.3406e-04,  9.1553e-05,  1.5411e-03,  9.1553e-04],\n",
      "        [-3.8147e-05,  5.8409e-02,  5.4550e-04, -2.0752e-03,  1.8311e-04,\n",
      "          5.3406e-04,  7.2070e+03, -2.7466e-04,  1.5259e-03,  1.5688e-03],\n",
      "        [ 1.9287e-02,  4.8813e-02,  1.4069e-02,  3.7689e-03,  2.1973e-03,\n",
      "          9.1553e-05, -2.7466e-04,  7.2070e+03,  2.7390e-03, -1.4343e-03],\n",
      "        [-9.1293e-02,  6.1066e-02,  9.6130e-03,  2.6016e-03, -1.3428e-03,\n",
      "          1.5411e-03,  1.5259e-03,  2.7390e-03,  7.2070e+03, -8.3923e-04],\n",
      "        [ 4.8981e-03,  2.1797e-02, -1.6785e-04, -2.2583e-03,  3.6621e-04,\n",
      "          9.1553e-04,  1.5688e-03, -1.4343e-03, -8.3923e-04,  7.2070e+03]],\n",
      "       grad_fn=<MmBackward0>)\n"
     ]
    },
    {
     "name": "stderr",
     "output_type": "stream",
     "text": [
      "Train Loss: 60.0433916, LR: 0.010000: 100%|██████████| 3/3 [00:29<00:00,  9.94s/it]\n"
     ]
    },
    {
     "name": "stdout",
     "output_type": "stream",
     "text": [
      "[[ 7.5879819e+03  2.6032055e+04  4.4691772e+03  8.9127764e+03\n",
      "   9.1059824e+03 -1.6919711e+04 -1.2635810e+05  1.2051928e+05\n",
      "   2.0659403e+05 -2.2163270e+05]\n",
      " [ 2.6032055e+04  1.1683280e+05  2.8759324e+04  4.1129078e+04\n",
      "   2.3810748e+04 -1.0251077e+05 -6.6543938e+05  5.9400750e+05\n",
      "   1.0513295e+06 -1.0932740e+06]\n",
      " [ 4.4691772e+03  2.8759324e+04  1.2758646e+04  6.0852603e+03\n",
      "   8.3041875e+03 -2.6685980e+04 -1.9104719e+05  1.5797033e+05\n",
      "   2.8429272e+05 -3.0128322e+05]\n",
      " [ 8.9127764e+03  4.1129078e+04  6.0852603e+03  3.2504527e+04\n",
      "  -1.7289453e+04 -4.2189277e+04 -2.0000619e+05  2.3096542e+05\n",
      "   3.7150766e+05 -3.6148431e+05]\n",
      " [ 9.1059824e+03  2.3810748e+04  8.3041875e+03 -1.7289453e+04\n",
      "   6.1071891e+04  9.1019824e+02 -1.3587806e+05  7.8457953e+04\n",
      "   1.5602766e+05 -2.2609394e+05]\n",
      " [-1.6919711e+04 -1.0251077e+05 -2.6685980e+04 -4.2189277e+04\n",
      "   9.1019824e+02  1.2589868e+05  6.5332044e+05 -5.6372206e+05\n",
      "  -1.0081343e+06  1.0088561e+06]\n",
      " [-1.2635810e+05 -6.6543938e+05 -1.9104719e+05 -2.0000619e+05\n",
      "  -1.3587806e+05  6.5332044e+05  4.1776620e+06 -3.4735520e+06\n",
      "  -6.3653205e+06  6.5488325e+06]\n",
      " [ 1.2051928e+05  5.9400750e+05  1.5797033e+05  2.3096542e+05\n",
      "   7.8457953e+04 -5.6372206e+05 -3.4735520e+06  3.1471652e+06\n",
      "   5.5352810e+06 -5.6955135e+06]\n",
      " [ 2.0659403e+05  1.0513295e+06  2.8429272e+05  3.7150766e+05\n",
      "   1.5602766e+05 -1.0081343e+06 -6.3653205e+06  5.5352810e+06\n",
      "   1.0036495e+07 -1.0234932e+07]\n",
      " [-2.2163270e+05 -1.0932740e+06 -3.0128322e+05 -3.6148431e+05\n",
      "  -2.2609394e+05  1.0088561e+06  6.5488325e+06 -5.6955135e+06\n",
      "  -1.0234932e+07  1.0587812e+07]]\n",
      "grassmann: -4.6710745329574594\n"
     ]
    },
    {
     "name": "stderr",
     "output_type": "stream",
     "text": [
      "c:\\Users\\Yuval\\anaconda3\\Lib\\site-packages\\sklearn\\cluster\\_kmeans.py:1436: UserWarning: KMeans is known to have a memory leak on Windows with MKL, when there are less chunks than available threads. You can avoid it by setting the environment variable OMP_NUM_THREADS=4.\n",
      "  warnings.warn(\n"
     ]
    },
    {
     "name": "stdout",
     "output_type": "stream",
     "text": [
      "\tDone in 41.94 s\n",
      "Computing 10 eigenvectors\n",
      "eigenvalues sum : 544.4392358732524\n",
      "Training SpectralNet:\n"
     ]
    },
    {
     "name": "stderr",
     "output_type": "stream",
     "text": [
      "  0%|          | 0/3 [00:00<?, ?it/s]"
     ]
    },
    {
     "name": "stdout",
     "output_type": "stream",
     "text": [
      "tensor([[ 5.0000e+03, -7.1597e-04,  8.7404e-04, -3.7082e-03,  1.7908e-03,\n",
      "         -1.5450e-04, -3.2876e-03, -8.3590e-04,  6.1568e-03,  7.7629e-04],\n",
      "        [-7.1597e-04,  5.0000e+03, -3.1643e-03,  6.5727e-03,  4.1313e-03,\n",
      "          8.3542e-04, -2.5902e-03, -6.8283e-04,  3.3474e-03,  8.9850e-03],\n",
      "        [ 8.7404e-04, -3.1643e-03,  5.0000e+03, -2.0959e-03,  4.6921e-04,\n",
      "         -1.0300e-03,  1.5163e-03,  1.4172e-03, -2.6293e-03,  1.4141e-03],\n",
      "        [-3.7082e-03,  6.5727e-03, -2.0959e-03,  5.0000e+03, -1.0300e-04,\n",
      "         -2.0599e-04,  7.1621e-04,  1.0478e-03, -7.5436e-04,  3.7307e-04],\n",
      "        [ 1.7908e-03,  4.1313e-03,  4.6921e-04, -1.0300e-04,  5.0000e+03,\n",
      "         -5.2261e-04,  5.8746e-04,  2.0981e-04, -4.0054e-04,  2.0690e-03],\n",
      "        [-1.5450e-04,  8.3542e-04, -1.0300e-03, -2.0599e-04, -5.2261e-04,\n",
      "          5.0000e+03, -1.7929e-04, -5.7220e-05, -1.5068e-04,  1.0524e-03],\n",
      "        [-3.2876e-03, -2.5902e-03,  1.5163e-03,  7.1621e-04,  5.8746e-04,\n",
      "         -1.7929e-04,  5.0000e+03,  3.1090e-04, -9.1553e-05,  5.5313e-04],\n",
      "        [-8.3590e-04, -6.8283e-04,  1.4172e-03,  1.0478e-03,  2.0981e-04,\n",
      "         -5.7220e-05,  3.1090e-04,  5.0000e+03, -1.3323e-03,  8.4734e-04],\n",
      "        [ 6.1568e-03,  3.3474e-03, -2.6293e-03, -7.5436e-04, -4.0054e-04,\n",
      "         -1.5068e-04, -9.1553e-05, -1.3323e-03,  5.0000e+03,  1.6344e-03],\n",
      "        [ 7.7629e-04,  8.9850e-03,  1.4141e-03,  3.7307e-04,  2.0690e-03,\n",
      "          1.0524e-03,  5.5313e-04,  8.4734e-04,  1.6344e-03,  5.0000e+03]],\n",
      "       grad_fn=<MmBackward0>)\n"
     ]
    },
    {
     "name": "stderr",
     "output_type": "stream",
     "text": [
      "Train Loss: 350.0487549, LR: 0.010000:  33%|███▎      | 1/3 [00:03<00:06,  3.40s/it]"
     ]
    },
    {
     "name": "stdout",
     "output_type": "stream",
     "text": [
      "tensor([[ 5.0000e+03,  2.4414e-04, -5.7664e-03, -2.0416e-03, -1.8309e-02,\n",
      "          1.4694e-02, -7.5463e-03,  1.3594e-02, -3.2185e-02,  2.2830e-02],\n",
      "        [ 2.4414e-04,  5.0000e+03, -1.9569e-03, -2.7943e-03, -1.2474e-02,\n",
      "          7.3357e-03, -4.2543e-03, -3.9425e-03,  9.8400e-03,  1.3027e-03],\n",
      "        [-5.7664e-03, -1.9569e-03,  5.0000e+03, -2.4509e-04,  6.4468e-04,\n",
      "         -1.1406e-03,  1.1778e-03, -8.2684e-04,  3.3760e-04,  2.2888e-04],\n",
      "        [-2.0416e-03, -2.7943e-03, -2.4509e-04,  5.0000e+03, -2.7390e-03,\n",
      "          3.6240e-05, -7.7271e-04,  1.6589e-03, -6.9141e-04, -1.3685e-03],\n",
      "        [-1.8309e-02, -1.2474e-02,  6.4468e-04, -2.7390e-03,  5.0000e+03,\n",
      "         -9.4986e-04,  2.0981e-04, -2.1553e-04, -9.0790e-04,  6.4850e-05],\n",
      "        [ 1.4694e-02,  7.3357e-03, -1.1406e-03,  3.6240e-05, -9.4986e-04,\n",
      "          5.0000e+03, -2.3937e-04,  2.6131e-04, -2.8038e-04, -2.3079e-04],\n",
      "        [-7.5463e-03, -4.2543e-03,  1.1778e-03, -7.7271e-04,  2.0981e-04,\n",
      "         -2.3937e-04,  5.0000e+03,  9.3442e-04, -1.3864e-03, -5.1665e-04],\n",
      "        [ 1.3594e-02, -3.9425e-03, -8.2684e-04,  1.6589e-03, -2.1553e-04,\n",
      "          2.6131e-04,  9.3442e-04,  5.0000e+03, -2.2221e-04,  5.1880e-04],\n",
      "        [-3.2185e-02,  9.8400e-03,  3.3760e-04, -6.9141e-04, -9.0790e-04,\n",
      "         -2.8038e-04, -1.3864e-03, -2.2221e-04,  5.0000e+03, -1.2360e-03],\n",
      "        [ 2.2830e-02,  1.3027e-03,  2.2888e-04, -1.3685e-03,  6.4850e-05,\n",
      "         -2.3079e-04, -5.1665e-04,  5.1880e-04, -1.2360e-03,  5.0000e+03]],\n",
      "       grad_fn=<MmBackward0>)\n"
     ]
    },
    {
     "name": "stderr",
     "output_type": "stream",
     "text": [
      "Train Loss: 356.2676025, LR: 0.010000:  67%|██████▋   | 2/3 [00:06<00:03,  3.51s/it]"
     ]
    },
    {
     "name": "stdout",
     "output_type": "stream",
     "text": [
      "tensor([[ 5.0000e+03, -2.1052e-04,  1.0342e-03, -5.3366e-03, -3.0490e-03,\n",
      "         -5.3032e-02,  3.5028e-02, -2.8799e-02, -4.4071e-02, -2.1813e-02],\n",
      "        [-2.1052e-04,  5.0000e+03, -3.4237e-04, -4.3488e-04, -5.9128e-05,\n",
      "         -1.5564e-03,  1.4687e-03,  2.6234e-02,  2.6909e-02, -1.0586e-02],\n",
      "        [ 1.0342e-03, -3.4237e-04,  5.0000e+03,  1.9255e-03,  1.7805e-03,\n",
      "          2.2516e-03,  4.0445e-03,  2.2733e-02,  9.7350e-03, -1.8954e-02],\n",
      "        [-5.3366e-03, -4.3488e-04,  1.9255e-03,  5.0000e+03, -4.0340e-04,\n",
      "          5.0564e-03, -7.5874e-03,  1.0522e-02,  1.7889e-02,  4.6539e-03],\n",
      "        [-3.0490e-03, -5.9128e-05,  1.7805e-03, -4.0340e-04,  5.0000e+03,\n",
      "          8.0681e-04, -1.3075e-03,  4.6587e-04, -4.8733e-04, -6.8779e-03],\n",
      "        [-5.3032e-02, -1.5564e-03,  2.2516e-03,  5.0564e-03,  8.0681e-04,\n",
      "          5.0000e+03, -3.3569e-04,  8.5449e-04,  1.4844e-03, -2.0065e-03],\n",
      "        [ 3.5028e-02,  1.4687e-03,  4.0445e-03, -7.5874e-03, -1.3075e-03,\n",
      "         -3.3569e-04,  5.0000e+03, -2.0599e-03,  2.4922e-03, -7.0190e-04],\n",
      "        [-2.8799e-02,  2.6234e-02,  2.2733e-02,  1.0522e-02,  4.6587e-04,\n",
      "          8.5449e-04, -2.0599e-03,  5.0000e+03,  1.7552e-03,  4.0245e-04],\n",
      "        [-4.4071e-02,  2.6909e-02,  9.7350e-03,  1.7889e-02, -4.8733e-04,\n",
      "          1.4844e-03,  2.4922e-03,  1.7552e-03,  5.0000e+03, -1.9073e-04],\n",
      "        [-2.1813e-02, -1.0586e-02, -1.8954e-02,  4.6539e-03, -6.8779e-03,\n",
      "         -2.0065e-03, -7.0190e-04,  4.0245e-04, -1.9073e-04,  5.0000e+03]],\n",
      "       grad_fn=<MmBackward0>)\n"
     ]
    },
    {
     "name": "stderr",
     "output_type": "stream",
     "text": [
      "Train Loss: 306.6562988, LR: 0.010000: 100%|██████████| 3/3 [00:10<00:00,  3.55s/it]\n"
     ]
    },
    {
     "name": "stdout",
     "output_type": "stream",
     "text": [
      "[[ 6.34175830e+03 -1.95872617e+04  3.07029883e+04 -1.15758604e+04\n",
      "  -1.13996367e+04 -1.01210315e+03 -1.52318109e+05 -2.66094961e+04\n",
      "  -3.28915312e+05 -2.57941250e+05]\n",
      " [-1.95872617e+04  7.48164531e+04 -1.41731406e+05  5.15566094e+04\n",
      "   4.77978008e+04  2.08855098e+04  6.64446000e+05  7.94617109e+04\n",
      "   1.23400475e+06  9.91544188e+05]\n",
      " [ 3.07029883e+04 -1.41731406e+05  3.07331969e+05 -1.05193508e+05\n",
      "  -9.46207891e+04 -7.23044609e+04 -1.38969888e+06 -1.19190898e+05\n",
      "  -2.44180450e+06 -1.97191900e+06]\n",
      " [-1.15758604e+04  5.15566094e+04 -1.05193508e+05  4.79307617e+04\n",
      "   4.12803047e+04  1.38100273e+04  5.05444688e+05  5.00135508e+04\n",
      "   7.73067625e+05  6.58875125e+05]\n",
      " [-1.13996367e+04  4.77978008e+04 -9.46207891e+04  4.12803047e+04\n",
      "   4.33250586e+04  1.78753105e+04  4.40690094e+05  5.92526680e+04\n",
      "   8.99528938e+05  7.10771438e+05]\n",
      " [-1.01210315e+03  2.08855098e+04 -7.23044609e+04  1.38100273e+04\n",
      "   1.78753105e+04  8.10888047e+04  2.42810938e+05  2.62672637e+04\n",
      "   7.62203000e+05  4.82699719e+05]\n",
      " [-1.52318109e+05  6.64446000e+05 -1.38969888e+06  5.05444688e+05\n",
      "   4.40690094e+05  2.42810938e+05  6.46485400e+06  5.71435500e+05\n",
      "   1.09509720e+07  9.02147100e+06]\n",
      " [-2.66094961e+04  7.94617109e+04 -1.19190898e+05  5.00135508e+04\n",
      "   5.92526680e+04  2.62672637e+04  5.71435500e+05  1.48166984e+05\n",
      "   1.60060738e+06  1.17272512e+06]\n",
      " [-3.28915312e+05  1.23400475e+06 -2.44180450e+06  7.73067625e+05\n",
      "   8.99528938e+05  7.62203000e+05  1.09509720e+07  1.60060738e+06\n",
      "   2.80086880e+07  2.08678660e+07]\n",
      " [-2.57941250e+05  9.91544188e+05 -1.97191900e+06  6.58875125e+05\n",
      "   7.10771438e+05  4.82699719e+05  9.02147100e+06  1.17272512e+06\n",
      "   2.08678660e+07  1.59862880e+07]]\n",
      "grassmann: -5.984284645625417\n"
     ]
    },
    {
     "name": "stderr",
     "output_type": "stream",
     "text": [
      "c:\\Users\\Yuval\\anaconda3\\Lib\\site-packages\\sklearn\\cluster\\_kmeans.py:1436: UserWarning: KMeans is known to have a memory leak on Windows with MKL, when there are less chunks than available threads. You can avoid it by setting the environment variable OMP_NUM_THREADS=4.\n",
      "  warnings.warn(\n"
     ]
    },
    {
     "name": "stdout",
     "output_type": "stream",
     "text": [
      "\tDone in 18.81 s\n",
      "\n",
      "Computing descriptors\n",
      "\tNormalizing descriptors\n",
      "\n",
      "\t150 out of 600 possible descriptors kept\n",
      "Computing commutativity operators\n",
      "\tScaling LBO commutativity weight by 2.0e-12\n",
      "\n",
      "Optimization :\n",
      "\t10 Ev on source - 10 Ev on Target\n",
      "\tUsing 150 Descriptors\n",
      "\tHyperparameters :\n",
      "\t\tDescriptors preservation :1.0e-01\n",
      "\t\tDescriptors commutativity :1.0e-01\n",
      "\t\tLaplacian commutativity :1.0e-02\n",
      "\t\tOrientation preservation :0.0e+00\n",
      "\n",
      "\tTask : CONVERGENCE: NORM_OF_PROJECTED_GRADIENT_<=_PGTOL, funcall : 10, nit : 8, warnflag : 0\n",
      "\tDone in 0.07 seconds\n"
     ]
    },
    {
     "data": {
      "application/vnd.jupyter.widget-view+json": {
       "model_id": "4bbc8e1f847746578cf6105a29831c13",
       "version_major": 2,
       "version_minor": 0
      },
      "text/plain": [
       "HBox(children=(Output(), Output()))"
      ]
     },
     "metadata": {},
     "output_type": "display_data"
    },
    {
     "data": {
      "application/vnd.jupyter.widget-view+json": {
       "model_id": "1832bd36934c409f98c131ad3c5a2146",
       "version_major": 2,
       "version_minor": 0
      },
      "text/plain": [
       "HBox(children=(Output(), Output()))"
      ]
     },
     "metadata": {},
     "output_type": "display_data"
    }
   ],
   "source": [
    "from pyFM.functional import FunctionalMapping\n",
    "import meshplot as mp\n",
    "import numpy as np\n",
    "\n",
    "from pyFM.mesh import TriMesh\n",
    "\n",
    "\n",
    "def plot_mesh(myMesh, cmap=None):\n",
    "    mp.plot(myMesh.vertlist, myMesh.facelist, c=cmap)\n",
    "\n",
    "\n",
    "def double_plot(myMesh1, myMesh2, cmap1=None, cmap2=None):\n",
    "    d = mp.subplot(myMesh1.vertlist, myMesh1.facelist, c=cmap1, s=[2, 2, 0])\n",
    "    mp.subplot(myMesh2.vertlist, myMesh2.facelist, c=cmap2, s=[2, 2, 1], data=d)\n",
    "\n",
    "\n",
    "def visu(vertices):\n",
    "    min_coord, max_coord = np.min(vertices, axis=0, keepdims=True), np.max(vertices, axis=0, keepdims=True)\n",
    "    cmap = (vertices - min_coord) / (max_coord - min_coord)\n",
    "    return cmap\n",
    "\n",
    "mesh1 = TriMesh('data/cat-00.off', area_normalize=True, center=False)\n",
    "mesh2 = TriMesh('data/lion-00.off')\n",
    "# mesh1 = TriMesh(np.load('data/lion-00_1e5.npy'))\n",
    "# mesh2 = TriMesh(np.load('data/cat-00_1e5.npy'))\n",
    "process_params = {\n",
    "    'n_ev': (10,10),  # Number of eigenvalues on source and Target\n",
    "    'landmarks': np.loadtxt('data/landmarks.txt',dtype=int)[:5],  # loading 5 landmarks\n",
    "    'subsample_step': 4,  # In order not to use too many descriptors\n",
    "    'descr_type': 'WKS',  # WKS or HKS\n",
    "    'k_process' : 10 # Number of eigenvalues to compute\n",
    "}\n",
    "model = FunctionalMapping(mesh1,mesh2)\n",
    "model.preprocess(**process_params,verbose=True, is_point_cloud=False, intrinsic=False)\n",
    "fit_params = {\n",
    "    'w_descr': 1e-1,\n",
    "    'w_lap': 1e-2,\n",
    "    'w_dcomm': 1e-1,\n",
    "    'w_orient': 0\n",
    "}\n",
    "\n",
    "model.fit(**fit_params, verbose=True)\n",
    "p2p_21 = model.get_p2p(n_jobs=1)\n",
    "cmap1 = visu(mesh1.vertlist); cmap2 = cmap1[p2p_21]\n",
    "double_plot(mesh1,mesh2,cmap1,cmap2)"
   ]
  }
 ],
 "metadata": {
  "kernelspec": {
   "display_name": "Python 3 (ipykernel)",
   "language": "python",
   "name": "python3"
  },
  "language_info": {
   "codemirror_mode": {
    "name": "ipython",
    "version": 3
   },
   "file_extension": ".py",
   "mimetype": "text/x-python",
   "name": "python",
   "nbconvert_exporter": "python",
   "pygments_lexer": "ipython3",
   "version": "3.11.5"
  }
 },
 "nbformat": 4,
 "nbformat_minor": 4
}
